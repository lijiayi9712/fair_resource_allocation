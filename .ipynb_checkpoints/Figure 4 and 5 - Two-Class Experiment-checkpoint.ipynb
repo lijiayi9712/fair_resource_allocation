{
 "cells": [
  {
   "cell_type": "code",
   "execution_count": 1,
   "id": "e9094b20",
   "metadata": {},
   "outputs": [],
   "source": [
    "import time\n",
    "import tqdm\n",
    "import warnings\n",
    "import multiprocessing\n",
    "import cvxpy as cp\n",
    "import numpy as np\n",
    "import pandas as pd\n",
    "import matplotlib.pyplot as plt\n",
    "from functools import partial"
   ]
  },
  {
   "cell_type": "code",
   "execution_count": 10,
   "id": "0c05c65c",
   "metadata": {},
   "outputs": [],
   "source": [
    "SAVE_PATH = \"./figures\""
   ]
  },
  {
   "cell_type": "code",
   "execution_count": 2,
   "id": "f6d51971",
   "metadata": {},
   "outputs": [],
   "source": [
    "def check_feasibility(L, a, b):\n",
    "    x = cp.Variable(len(a))\n",
    "    constraints = [x <= 2*(b - L)/a, x >= 0, cp.sum(x) == L]\n",
    "    problem = cp.Problem(cp.Maximize(0), constraints)\n",
    "    problem.solve()    \n",
    "    return problem.status in {\"optimal\", \"feasible\"}\n",
    "\n",
    "\n",
    "def solve_fixed_load(L, a, b, metric):\n",
    "\n",
    "    try: \n",
    "        warnings.simplefilter(\"error\")\n",
    "        if not check_feasibility(L, a, b):\n",
    "            raise ValueError(\"infeasible\")\n",
    "\n",
    "        x = cp.Variable(len(a))\n",
    "\n",
    "        if (metric == \"sw\") or (metric == 0):\n",
    "            objective = cp.Maximize(cp.sum(-0.5*cp.multiply(a, x**2) + cp.multiply(b - L, x)))\n",
    "        elif (metric == \"pf\") or (metric == 1):\n",
    "            objective = cp.Maximize(cp.sum(cp.log(x) + cp.log(cp.multiply(-0.5*a, x) + b - L)))\n",
    "        elif (metric == \"mm\") or (metric == float(\"inf\")):\n",
    "            objective = cp.Maximize(cp.min(-0.5*cp.multiply(a, x**2) + cp.multiply(b - L, x)))\n",
    "        else:\n",
    "            y = -0.5*cp.multiply(a, x**2) + cp.multiply(b - L, x)\n",
    "            objective = cp.Maximize(cp.sum(cp.power(y, 1 - metric))/(1 - metric))\n",
    "\n",
    "        constraints = [x <= 2*(b - L)/a, x >= 0, cp.sum(x) == L]\n",
    "        problem = cp.Problem(objective, constraints)\n",
    "        problem.solve(solver=\"ECOS\", abstol=1e-6)\n",
    "\n",
    "        user_surplus = -0.5*a*x.value**2 + (b - L)*x.value\n",
    "        surplus = np.sum(user_surplus)\n",
    "\n",
    "        return problem.value, x.value, user_surplus, surplus, \"success\"\n",
    "    \n",
    "    except (Warning, cp.SolverError, TypeError, ValueError) as e:\n",
    "        return np.nan, np.full(len(a), np.nan), np.full(len(a), np.nan), np.nan, str(e)\n",
    "\n",
    "\n",
    "def solve(a, b, metric):\n",
    "    pool = multiprocessing.Pool(min(multiprocessing.cpu_count(), 100))\n",
    "    results = pool.map(partial(solve_fixed_load, a=a, b=b, metric=metric), np.arange(0.1, 100, 0.1))\n",
    "    results = [x for x in results if not np.isnan(x[0])]\n",
    "    pool.close()\n",
    "    return sorted(results, key=lambda x: -x[0])[0]\n",
    "\n",
    "\n",
    "def solve_wrapper(params):\n",
    "    \n",
    "    seed = params[\"seed\"]\n",
    "    n_users = params[\"n_users\"]\n",
    "    metric = params[\"metric\"]\n",
    "    xbar = params[\"xbar\"]\n",
    "    \n",
    "    np.random.seed(seed)\n",
    "    \n",
    "    a1 = 1*np.random.rand(n_users) + 1\n",
    "    b1 = xbar * a1\n",
    "    \n",
    "    a2 = 1*np.random.rand(n_users) + 2\n",
    "    b2 = xbar * a2\n",
    "    \n",
    "    a = np.append(a1, a2)\n",
    "    b = np.append(b1, b2)\n",
    "\n",
    "    val, sol, user_surplus, surplus, message = solve(a, b, metric)\n",
    "        \n",
    "    return dict(\n",
    "        n_users=2*n_users, seed=seed, metric=metric, message=message,\n",
    "        a=a, b=b, val=val, sol=sol, user_surplus=user_surplus,\n",
    "        sol0=sol[:n_users], sol1=sol[n_users:],\n",
    "        surplus0=user_surplus[:n_users],\n",
    "        surplus1=user_surplus[n_users:],\n",
    "    )"
   ]
  },
  {
   "cell_type": "code",
   "execution_count": 3,
   "id": "f72df230",
   "metadata": {
    "scrolled": true
   },
   "outputs": [
    {
     "name": "stderr",
     "output_type": "stream",
     "text": [
      "100%|█████████████████████████████████████████████████████████████████████████████| 3000/3000 [31:12<00:00,  1.60it/s]"
     ]
    },
    {
     "name": "stdout",
     "output_type": "stream",
     "text": [
      "CPU times: user 5min 39s, sys: 19min 35s, total: 25min 14s\n",
      "Wall time: 31min 12s\n"
     ]
    },
    {
     "name": "stderr",
     "output_type": "stream",
     "text": [
      "\n"
     ]
    }
   ],
   "source": [
    "%%time\n",
    "\n",
    "params_list = [\n",
    "    dict(n_users=n_users, seed=seed, metric=metric, xbar=5)\n",
    "    for n_users in [10] for seed in range(1000)\n",
    "    for metric in [\"sw\", \"pf\", \"mm\"]\n",
    "]\n",
    "\n",
    "results = [solve_wrapper(params) for params in tqdm.tqdm(params_list)]\n",
    "df = pd.DataFrame(results)"
   ]
  },
  {
   "cell_type": "code",
   "execution_count": 4,
   "id": "eb38b59f",
   "metadata": {},
   "outputs": [],
   "source": [
    "df = pd.DataFrame(results)\n",
    "df[\"a_rank\"] = df.a.apply(lambda x: list(pd.Series(x).rank()))\n",
    "df_sw = df.loc[df.metric==\"sw\"]\n",
    "df_pf = df.loc[df.metric==\"pf\"]\n",
    "\n",
    "a = np.array(df_sw.a.tolist())\n",
    "a1 = a[:,:10]\n",
    "a2 = a[:,10:]\n",
    "\n",
    "rel_a1 = (a1 / a.max(1, keepdims=True)).flatten()\n",
    "rel_a2 = (a2 / a.max(1, keepdims=True)).flatten()\n",
    "\n",
    "sw_sol = np.array(df_sw.sol.tolist())\n",
    "sw_sol1 = sw_sol[:,:10].flatten()\n",
    "sw_sol2 = sw_sol[:,10:].flatten()\n",
    "\n",
    "sw_user_surplus = np.array(df_sw.user_surplus.tolist())\n",
    "sw_surplus1 = sw_user_surplus[:,:10].flatten()\n",
    "sw_surplus2 = sw_user_surplus[:,10:].flatten()\n",
    "\n",
    "pf_sol = np.array(df_pf.sol.tolist())\n",
    "pf_sol1 = pf_sol[:,:10].flatten()\n",
    "pf_sol2 = pf_sol[:,10:].flatten()\n",
    "\n",
    "pf_user_surplus = np.array(df_pf.user_surplus.tolist())\n",
    "pf_surplus1 = pf_user_surplus[:,:10].flatten()\n",
    "pf_surplus2 = pf_user_surplus[:,10:].flatten()"
   ]
  },
  {
   "cell_type": "markdown",
   "id": "8faf8991",
   "metadata": {},
   "source": [
    "## Figure 4"
   ]
  },
  {
   "cell_type": "code",
   "execution_count": 32,
   "id": "3a05a9f8",
   "metadata": {},
   "outputs": [
    {
     "data": {
      "image/png": "[encoded data removed]",
      "text/plain": [
       "<Figure size 400x350 with 2 Axes>"
      ]
     },
     "metadata": {},
     "output_type": "display_data"
    }
   ],
   "source": [
    "fig, axs = plt.subplots(2, 1, figsize=(4, 3.5), constrained_layout=True)\n",
    "\n",
    "# calculate price of fairness\n",
    "ax = axs[0].violinplot([sw_sol0, sw_sol1, pf_sol0, pf_sol1], showmedians=True)\n",
    "for i, pc in enumerate(ax[\"bodies\"]):\n",
    "    pc.set_facecolor(f\"C{i//2}\")\n",
    "    pc.set_edgecolor(f\"C{i//2}\")\n",
    "    pc.set_alpha(0.7)\n",
    "    \n",
    "for partname in [\"cmedians\", \"cmins\", \"cmaxes\", \"cbars\"]:\n",
    "    vp = ax[partname]\n",
    "    vp.set_edgecolor(\"k\")\n",
    "    vp.set_alpha(0.7)\n",
    "    \n",
    "axs[0].set_ylabel(\"Allocation\")\n",
    "axs[0].set_xticks([1, 2, 3, 4], [])\n",
    "axs[0].set_axisbelow(True)\n",
    "axs[0].grid(zorder=0)\n",
    "\n",
    "# calculate price of efficiency\n",
    "ax = axs[1].violinplot([sw_surplus0, sw_surplus1, pf_surplus0, pf_surplus1], showmedians=True)\n",
    "for i, pc in enumerate(ax[\"bodies\"]):\n",
    "    pc.set_facecolor(f\"C{i//2}\")\n",
    "    pc.set_edgecolor(f\"C{i//2}\")\n",
    "    pc.set_alpha(0.7)\n",
    "    \n",
    "for partname in [\"cmedians\", \"cmins\", \"cmaxes\", \"cbars\"]:\n",
    "    vp = ax[partname]\n",
    "    vp.set_edgecolor(\"k\")\n",
    "    vp.set_alpha(0.7)\n",
    "    \n",
    "axs[1].set_ylabel(\"Surplus\")\n",
    "axs[1].set_xticks([1, 2, 3, 4], [\"SW-1\", \"SW-2\", \"PF-1\", \"PF-2\"])\n",
    "axs[1].set_axisbelow(True)\n",
    "axs[1].grid(zorder=0)\n",
    "\n",
    "\n",
    "plt.savefig(f\"{SAVE_PATH}/two-class-small.png\", dpi=300)\n",
    "plt.show()"
   ]
  },
  {
   "cell_type": "code",
   "execution_count": null,
   "id": "38fd4e31",
   "metadata": {},
   "outputs": [],
   "source": []
  },
  {
   "cell_type": "markdown",
   "id": "35c74183",
   "metadata": {},
   "source": [
    "## Figure 5"
   ]
  },
  {
   "cell_type": "code",
   "execution_count": 33,
   "id": "2616c7f2",
   "metadata": {},
   "outputs": [
    {
     "data": {
      "image/png": "[encoded data removed]",
      "text/plain": [
       "<Figure size 400x350 with 2 Axes>"
      ]
     },
     "metadata": {},
     "output_type": "display_data"
    }
   ],
   "source": [
    "fig, axs = plt.subplots(2, 1, figsize=(4, 3.5), constrained_layout=True)\n",
    "\n",
    "# calculate price of fairness\n",
    "ax = axs[0].violinplot([pf_sol0 - sw_sol0, pf_sol1 - sw_sol1], showmedians=True)\n",
    "for i, pc in enumerate(ax[\"bodies\"]):\n",
    "    pc.set_facecolor(f\"C{i}\")\n",
    "    pc.set_edgecolor(f\"C{i}\")\n",
    "    pc.set_alpha(0.7)\n",
    "    \n",
    "for partname in [\"cmedians\", \"cmins\", \"cmaxes\", \"cbars\"]:\n",
    "    vp = ax[partname]\n",
    "    vp.set_edgecolor(\"k\")\n",
    "    vp.set_alpha(0.7)\n",
    "    \n",
    "axs[0].set_ylabel(\"Allocation Gain\")\n",
    "axs[0].set_xticks([1, 2], [])\n",
    "axs[0].set_axisbelow(True)\n",
    "axs[0].grid(zorder=0)\n",
    "\n",
    "# calculate price of efficiency\n",
    "ax = axs[1].violinplot([pf_surplus0 - sw_surplus0, pf_surplus1 - sw_surplus1], showmedians=True)\n",
    "for i, pc in enumerate(ax[\"bodies\"]):\n",
    "    pc.set_facecolor(f\"C{i}\")\n",
    "    pc.set_edgecolor(f\"C{i}\")\n",
    "    pc.set_alpha(0.7)\n",
    "    \n",
    "for partname in [\"cmedians\", \"cmins\", \"cmaxes\", \"cbars\"]:\n",
    "    vp = ax[partname]\n",
    "    vp.set_edgecolor(\"k\")\n",
    "    vp.set_alpha(0.7)\n",
    "    \n",
    "axs[1].set_ylabel(\"Surplus Gain\")\n",
    "axs[1].set_xticks([1, 2], [\"Class 1\", \"Class 2\"])\n",
    "axs[1].set_axisbelow(True)\n",
    "axs[1].grid(zorder=0)\n",
    "\n",
    "plt.savefig(f\"{SAVE_PATH}/two-class-gain-small.png\", dpi=300)\n",
    "plt.show()"
   ]
  },
  {
   "cell_type": "code",
   "execution_count": null,
   "id": "9328c064",
   "metadata": {},
   "outputs": [],
   "source": []
  },
  {
   "cell_type": "code",
   "execution_count": null,
   "id": "8b7bd7e4",
   "metadata": {},
   "outputs": [],
   "source": []
  },
  {
   "cell_type": "code",
   "execution_count": null,
   "id": "cd5a1fe3",
   "metadata": {},
   "outputs": [],
   "source": []
  },
  {
   "cell_type": "code",
   "execution_count": null,
   "id": "0750a3dd",
   "metadata": {},
   "outputs": [],
   "source": []
  },
  {
   "cell_type": "code",
   "execution_count": null,
   "id": "ef1d804f",
   "metadata": {},
   "outputs": [],
   "source": []
  },
  {
   "cell_type": "code",
   "execution_count": null,
   "id": "6a441a7e",
   "metadata": {},
   "outputs": [],
   "source": []
  }
 ],
 "metadata": {
  "kernelspec": {
   "display_name": "Python [conda env:uw] *",
   "language": "python",
   "name": "conda-env-uw-py"
  },
  "language_info": {
   "codemirror_mode": {
    "name": "ipython",
    "version": 3
   },
   "file_extension": ".py",
   "mimetype": "text/x-python",
   "name": "python",
   "nbconvert_exporter": "python",
   "pygments_lexer": "ipython3",
   "version": "3.9.16"
  }
 },
 "nbformat": 4,
 "nbformat_minor": 5
}
