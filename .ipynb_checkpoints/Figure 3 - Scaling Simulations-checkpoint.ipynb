{
 "cells": [
  {
   "cell_type": "code",
   "execution_count": 1,
   "id": "e9094b20",
   "metadata": {},
   "outputs": [],
   "source": [
    "import tqdm\n",
    "import warnings\n",
    "import multiprocessing\n",
    "import cvxpy as cp\n",
    "import numpy as np\n",
    "import pandas as pd\n",
    "import matplotlib.pyplot as plt\n",
    "import matplotlib.patches as mpatches"
   ]
  },
  {
   "cell_type": "code",
   "execution_count": 2,
   "id": "1941e381",
   "metadata": {},
   "outputs": [],
   "source": [
    "SAVE_PATH = \"./figures\""
   ]
  },
  {
   "cell_type": "code",
   "execution_count": 3,
   "id": "f6d51971",
   "metadata": {},
   "outputs": [],
   "source": [
    "def check_feasibility(L, a, b):\n",
    "    x = cp.Variable(len(a))\n",
    "    constraints = [x <= 2*(b - L)/a, x >= 0, cp.sum(x) == L]\n",
    "    problem = cp.Problem(cp.Maximize(0), constraints)\n",
    "    problem.solve()    \n",
    "    return problem.status in {\"optimal\", \"feasible\"}\n",
    "\n",
    "\n",
    "def solve(L, a, b, metric):\n",
    "\n",
    "    try:\n",
    "        warnings.simplefilter(\"error\")\n",
    "        if not check_feasibility(L, a, b):\n",
    "            raise ValueError(\"infeasible\")\n",
    "        \n",
    "        x = cp.Variable(len(a))\n",
    "\n",
    "        if (metric == \"sw\") or (metric == 0):\n",
    "            objective = cp.Maximize(cp.sum(-0.5*cp.multiply(a, x**2) + cp.multiply(b - L, x)))\n",
    "        elif (metric == \"pf\") or (metric == 1):\n",
    "            objective = cp.Maximize(cp.sum(cp.log(x) + cp.log(cp.multiply(-0.5*a, x) + b - L)))\n",
    "        elif (metric == \"mm\") or (metric == float(\"inf\")):\n",
    "            objective = cp.Maximize(cp.min(-0.5*cp.multiply(a, x**2) + cp.multiply(b - L, x)))\n",
    "        else:\n",
    "            y = -0.5*cp.multiply(a, x**2) + cp.multiply(b - L, x)\n",
    "            objective = cp.Maximize(cp.sum(cp.power(y, 1 - metric))/(1 - metric))\n",
    "\n",
    "        constraints = [x <= 2*(b - L)/a, x >= 0, cp.sum(x) == L]\n",
    "        problem = cp.Problem(objective, constraints)\n",
    "        problem.solve(solver=\"ECOS\", abstol=1e-6)\n",
    "\n",
    "        user_surplus = -0.5*a*x.value**2 + (b - L)*x.value\n",
    "        surplus = np.sum(user_surplus)\n",
    "\n",
    "        return problem.value, x.value, user_surplus, surplus, \"success\"\n",
    "    \n",
    "    except (Warning, cp.SolverError, TypeError, ValueError) as e:\n",
    "        return np.nan, np.full(len(a), np.nan), np.full(len(a), np.nan), np.nan, str(e)\n",
    "\n",
    "\n",
    "def solve_wrapper(params):\n",
    "    \n",
    "    L = params[\"L\"]\n",
    "    seed = params[\"seed\"]\n",
    "    n_users = params[\"n_users\"]\n",
    "\n",
    "    np.random.seed(seed)\n",
    "    a = 1*np.random.rand(n_users) + 1\n",
    "    b = (a + 1)*10 + 10*np.random.rand(n_users) + 1\n",
    "        \n",
    "    sw_val, sw_sol, sw_user_surplus, sw_surplus, sw_message = solve(L, a, b, \"sw\")\n",
    "    pf_val, pf_sol, pf_user_surplus, pf_surplus, pf_message = solve(L, a, b, \"pf\")\n",
    "    mm_val, mm_sol, mm_user_surplus, mm_surplus, mm_message = solve(L, a, b, \"mm\")\n",
    "    alpha0_val, alpha0_sol, alpha0_user_surplus, alpha0_surplus, alpha0_message = solve(L, a, b, 0.5)\n",
    "    alpha1_val, alpha1_sol, alpha1_user_surplus, alpha1_surplus, alpha1_message = solve(L, a, b, 2.0)\n",
    "    messages = dict(sw=sw_message, pf=pf_message, mm=mm_message, alpha0=alpha0_message, alpha1=alpha1_message)\n",
    "        \n",
    "    return dict(\n",
    "        experiment_id=f\"{n_users}-{seed}\", n_users=n_users, seed=seed, messages=messages, L=L,\n",
    "        sw_val=sw_val, sw_sol=sw_sol, sw_surplus=sw_surplus, sw_min_surplus=np.min(sw_user_surplus),\n",
    "        pf_val=pf_val, pf_sol=pf_sol, pf_surplus=pf_surplus, pf_min_surplus=np.min(pf_user_surplus),\n",
    "        mm_val=mm_val, mm_sol=mm_sol, mm_surplus=mm_surplus, mm_min_surplus=np.min(mm_user_surplus),\n",
    "        alpha0_val=alpha0_val, alpha0_sol=alpha0_sol, alpha0_surplus=alpha0_surplus, alpha0_min_surplus=np.min(alpha0_user_surplus),\n",
    "        alpha1_val=alpha1_val, alpha1_sol=alpha1_sol, alpha1_surplus=alpha1_surplus, alpha1_min_surplus=np.min(alpha1_user_surplus),\n",
    "    )"
   ]
  },
  {
   "cell_type": "code",
   "execution_count": null,
   "id": "ca932af5",
   "metadata": {},
   "outputs": [],
   "source": []
  },
  {
   "cell_type": "code",
   "execution_count": 4,
   "id": "7b79ecfb",
   "metadata": {
    "scrolled": true
   },
   "outputs": [
    {
     "name": "stdout",
     "output_type": "stream",
     "text": [
      "CPU times: user 30.8 s, sys: 14.5 s, total: 45.3 s\n",
      "Wall time: 4min 48s\n"
     ]
    }
   ],
   "source": [
    "%%time\n",
    "params_list = [\n",
    "    dict(L=L, n_users=n_users, seed=seed)\n",
    "    for L in np.arange(0.1, 100, 0.1)\n",
    "    for n_users in [10, 100, 1000]\n",
    "    for seed in range(100)\n",
    "]\n",
    "\n",
    "pool = multiprocessing.Pool(min(multiprocessing.cpu_count(), 100))\n",
    "results = pool.map(solve_wrapper, params_list)\n",
    "results = pd.DataFrame(results)\n",
    "pool.close()"
   ]
  },
  {
   "cell_type": "code",
   "execution_count": 5,
   "id": "cb93492f",
   "metadata": {
    "scrolled": true
   },
   "outputs": [],
   "source": [
    "select_cols = [\"n_users\", \"sw_surplus\", \"pf_surplus\", \"mm_surplus\", \"alpha0_surplus\", \"alpha1_surplus\"]\n",
    "select_cols += [\"sw_min_surplus\", \"pf_min_surplus\", \"mm_min_surplus\", \"alpha0_min_surplus\", \"alpha1_min_surplus\"]\n",
    "df = results.dropna().groupby(\"experiment_id\")[select_cols].max().reset_index()"
   ]
  },
  {
   "cell_type": "code",
   "execution_count": 69,
   "id": "09580a4f",
   "metadata": {},
   "outputs": [
    {
     "data": {
      "image/png": "[encoded data removed]",
      "text/plain": [
       "<Figure size 400x350 with 2 Axes>"
      ]
     },
     "metadata": {},
     "output_type": "display_data"
    }
   ],
   "source": [
    "n_users = (10, 100, 1000)\n",
    "x = np.arange(len(n_users))\n",
    "width = 0.2\n",
    "\n",
    "\n",
    "fig, axs = plt.subplots(2, 1, figsize=(4, 3.5), constrained_layout=True)\n",
    "\n",
    "\n",
    "# calculate price of fairness\n",
    "df[\"1.0 (PF)\"] = (df.sw_surplus - df.pf_surplus) / df.sw_surplus\n",
    "df[\"∞ (MM)\"] = (df.sw_surplus - df.mm_surplus) / df.sw_surplus\n",
    "df[\"0.5\"] = (df.sw_surplus - df.alpha0_surplus) / df.sw_surplus\n",
    "df[\"2.0\"] = (df.sw_surplus - df.alpha1_surplus) / df.sw_surplus\n",
    "\n",
    "df_errors = df.groupby(\"n_users\")[[\"0.5\", \"1.0 (PF)\",  \"2.0\", \"∞ (MM)\"]].std().to_dict()\n",
    "df_errors = {k:list(v.values())  for k,v in df_errors.items()}\n",
    "\n",
    "df_means = df.groupby(\"n_users\")[[\"0.5\", \"1.0 (PF)\",  \"2.0\", \"∞ (MM)\"]].mean().to_dict()\n",
    "df_means = {k:list(v.values())  for k,v in df_means.items()}\n",
    "\n",
    "\n",
    "for i, (attribute, measurement) in enumerate(df_means.items()):\n",
    "    offset = width * i\n",
    "    error = df_errors[attribute]\n",
    "    axs[0].bar(x + offset, measurement, width, label=attribute, yerr=error, capsize=5, color=f\"C{i+1}\") \n",
    "    \n",
    "\n",
    "axs[0].set_ylabel(\"Price of Fairness\")\n",
    "# axs[0].set_xlabel(\"Number of Users\")\n",
    "axs[0].set_xticks(x + 1.5*width, [])\n",
    "#axs[0].set_xticklabels(n_users)\n",
    "axs[0].set_ylim(0, 0.55)\n",
    "axs[0].grid(True)\n",
    "\n",
    "legend_labels = [\"α:\"] + list(df_means.keys()) \n",
    "legend_handles = [mpatches.Patch(color=\"none\" if i == 0 else f\"C{i}\", label=label) for i, label in enumerate(legend_labels)]\n",
    "axs[0].legend(\n",
    "    edgecolor=\"none\", loc=(0.01, 0.8), \n",
    "    handles=legend_handles, ncol=5, columnspacing=1, handlelength=0.7, handletextpad=0.25)\n",
    "\n",
    "axs[0].set_axisbelow(True)\n",
    "axs[0].grid(zorder=0)\n",
    "\n",
    "\n",
    "# calculate price of efficiency\n",
    "df[\"0.0 (SW)\"] = (df.mm_min_surplus - df.sw_min_surplus) / df.mm_min_surplus\n",
    "df[\"1.0 (PF)\"] = (df.mm_min_surplus - df.pf_min_surplus) / df.mm_min_surplus\n",
    "df[\"0.5\"] = (df.mm_min_surplus - df.alpha0_min_surplus) / df.mm_min_surplus\n",
    "df[\"2.0\"] = (df.mm_min_surplus - df.alpha1_min_surplus) / df.mm_min_surplus\n",
    "\n",
    "df_errors = df.groupby(\"n_users\")[[\"0.0 (SW)\", \"0.5\", \"1.0 (PF)\",  \"2.0\"]].std().to_dict()\n",
    "df_errors = {k:list(v.values())  for k,v in df_errors.items()}\n",
    "\n",
    "df_means = df.groupby(\"n_users\")[[\"0.0 (SW)\", \"0.5\", \"1.0 (PF)\",  \"2.0\"]].mean().to_dict()\n",
    "df_means = {k:list(v.values())  for k,v in df_means.items()}\n",
    "\n",
    "for i, (attribute, measurement) in enumerate(df_means.items()):\n",
    "    offset = width * i\n",
    "    error = df_errors[attribute]\n",
    "    axs[1].bar(x + offset, measurement, width, label=attribute, yerr=error, capsize=5)    \n",
    "\n",
    "axs[1].set_ylabel(\"Price of Efficiency\")\n",
    "axs[1].set_xlabel(\"Number of Users\")\n",
    "axs[1].set_xticks(x + 1.5*width, n_users)\n",
    "axs[1].set_xticklabels(n_users)\n",
    "axs[1].set_ylim(0, 1.3)\n",
    "axs[1].grid(True)\n",
    "\n",
    "legend_labels = [\"α:\"] + list(df_means.keys())\n",
    "legend_handles = [mpatches.Patch(color=\"none\" if i == 0 else f\"C{i-1}\", label=label) for i, label in enumerate(legend_labels)]\n",
    "axs[1].legend(\n",
    "    edgecolor=\"none\", loc=(0.01, 0.8), \n",
    "    handles=legend_handles, ncol=5, columnspacing=1, handlelength=0.7, handletextpad=0.25)\n",
    "\n",
    "axs[1].set_axisbelow(True)\n",
    "axs[1].grid(zorder=0)\n",
    "\n",
    "#plt.tight_layout()\n",
    "plt.savefig(f\"{SAVE_PATH}/pof-poe-bar-chart-small.png\", dpi=300)\n",
    "plt.show()\n"
   ]
  },
  {
   "cell_type": "code",
   "execution_count": null,
   "id": "6b941531",
   "metadata": {},
   "outputs": [],
   "source": []
  },
  {
   "cell_type": "code",
   "execution_count": null,
   "id": "513a6e35",
   "metadata": {},
   "outputs": [],
   "source": []
  },
  {
   "cell_type": "code",
   "execution_count": null,
   "id": "fc145ba2",
   "metadata": {},
   "outputs": [],
   "source": []
  },
  {
   "cell_type": "code",
   "execution_count": null,
   "id": "8a436b4a",
   "metadata": {},
   "outputs": [],
   "source": []
  },
  {
   "cell_type": "code",
   "execution_count": null,
   "id": "ef1d804f",
   "metadata": {},
   "outputs": [],
   "source": []
  },
  {
   "cell_type": "code",
   "execution_count": null,
   "id": "6a441a7e",
   "metadata": {},
   "outputs": [],
   "source": []
  }
 ],
 "metadata": {
  "kernelspec": {
   "display_name": "Python [conda env:uw] *",
   "language": "python",
   "name": "conda-env-uw-py"
  },
  "language_info": {
   "codemirror_mode": {
    "name": "ipython",
    "version": 3
   },
   "file_extension": ".py",
   "mimetype": "text/x-python",
   "name": "python",
   "nbconvert_exporter": "python",
   "pygments_lexer": "ipython3",
   "version": "3.9.16"
  }
 },
 "nbformat": 4,
 "nbformat_minor": 5
}
