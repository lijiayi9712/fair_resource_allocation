{
 "cells": [
  {
   "cell_type": "code",
   "execution_count": 1,
   "id": "e9094b20",
   "metadata": {},
   "outputs": [],
   "source": [
    "import tqdm\n",
    "import warnings\n",
    "import multiprocessing\n",
    "import cvxpy as cp\n",
    "import numpy as np\n",
    "import pandas as pd\n",
    "\n",
    "from functools import partial\n",
    "import matplotlib.pyplot as plt\n",
    "import matplotlib.lines as mlines\n",
    "import matplotlib.patches as mpatches"
   ]
  },
  {
   "cell_type": "code",
   "execution_count": 2,
   "id": "2e46c182",
   "metadata": {},
   "outputs": [],
   "source": [
    "SAVE_PATH = \"./figures\""
   ]
  },
  {
   "cell_type": "code",
   "execution_count": 3,
   "id": "5022d250",
   "metadata": {},
   "outputs": [],
   "source": [
    "def check_feasibility(L, a, b):\n",
    "    x = cp.Variable(len(a))\n",
    "    constraints = [x <= 2*(b - L)/a, x >= 0, cp.sum(x) == L]\n",
    "    problem = cp.Problem(cp.Maximize(0), constraints)\n",
    "    problem.solve()    \n",
    "    return problem.status in {\"optimal\", \"feasible\"}\n",
    "\n",
    "\n",
    "def solve_fixed_load(L, a, b, metric):\n",
    "\n",
    "    try: \n",
    "        warnings.simplefilter(\"error\")\n",
    "        if not check_feasibility(L, a, b):\n",
    "            raise ValueError(\"infeasible\")\n",
    "\n",
    "        x = cp.Variable(len(a))\n",
    "\n",
    "        if (metric == \"sw\") or (metric == 0):\n",
    "            objective = cp.Maximize(cp.sum(-0.5*cp.multiply(a, x**2) + cp.multiply(b - L, x)))\n",
    "        elif (metric == \"pf\") or (metric == 1):\n",
    "            objective = cp.Maximize(cp.sum(cp.log(x) + cp.log(cp.multiply(-0.5*a, x) + b - L)))\n",
    "        elif (metric == \"mm\") or (metric == float(\"inf\")):\n",
    "            objective = cp.Maximize(cp.min(-0.5*cp.multiply(a, x**2) + cp.multiply(b - L, x)))\n",
    "        else:\n",
    "            y = -0.5*cp.multiply(a, x**2) + cp.multiply(b - L, x)\n",
    "            objective = cp.Maximize(cp.sum(cp.power(y, 1 - metric))/(1 - metric))\n",
    "\n",
    "        constraints = [x <= 2*(b - L)/a, x >= 0, cp.sum(x) == L]\n",
    "        problem = cp.Problem(objective, constraints)\n",
    "        problem.solve(solver=\"ECOS\", abstol=1e-6)\n",
    "\n",
    "        user_surplus = -0.5*a*x.value**2 + (b - L)*x.value\n",
    "        surplus = np.sum(user_surplus)\n",
    "\n",
    "        return problem.value, x.value, user_surplus, surplus\n",
    "    \n",
    "    except (Warning, cp.SolverError, TypeError, ValueError) as e:\n",
    "        return np.nan, np.full(len(a), np.nan), np.full(len(a), np.nan), np.nan\n",
    "    "
   ]
  },
  {
   "cell_type": "markdown",
   "id": "01267b06",
   "metadata": {},
   "source": [
    "## Convex Feasible Region"
   ]
  },
  {
   "cell_type": "code",
   "execution_count": 4,
   "id": "f6d51971",
   "metadata": {},
   "outputs": [],
   "source": [
    "def solve(a, b, metric):\n",
    "    pool = multiprocessing.Pool(min(multiprocessing.cpu_count(), 100))\n",
    "    results = pool.map(partial(solve_fixed_load, a=a, b=b, metric=metric), np.arange(0.001, 1.5, 0.001))\n",
    "    results = [x for x in results if not np.isnan(x[0])]\n",
    "    pool.close()\n",
    "    return sorted(results, key=lambda x: -x[0])[0]"
   ]
  },
  {
   "cell_type": "code",
   "execution_count": 5,
   "id": "3218cfea",
   "metadata": {},
   "outputs": [
    {
     "name": "stderr",
     "output_type": "stream",
     "text": [
      "100%|███████████████████████████████████████████████████████████████████████████████████| 5/5 [00:03<00:00,  1.28it/s]"
     ]
    },
    {
     "name": "stdout",
     "output_type": "stream",
     "text": [
      "CPU times: user 690 ms, sys: 1.73 s, total: 2.42 s\n",
      "Wall time: 3.93 s\n"
     ]
    },
    {
     "name": "stderr",
     "output_type": "stream",
     "text": [
      "\n"
     ]
    }
   ],
   "source": [
    "%%time\n",
    "\n",
    "a = np.array([2, 3])\n",
    "b = np.array([3, 6])\n",
    "\n",
    "results1 = []\n",
    "alpha_values = [0.0, 0.5, 1.0, 2.0, float(\"inf\")]\n",
    "for alpha in tqdm.tqdm(alpha_values):\n",
    "    val, sol, user_surplus, surplus = solve(a, b, alpha)\n",
    "    results1.append(dict(\n",
    "        alpha=alpha,\n",
    "        val=val, \n",
    "        sol0=sol[0],\n",
    "        sol1=sol[1],\n",
    "        sol=sol, \n",
    "        user_surplus0=user_surplus[0],\n",
    "        user_surplus1=user_surplus[1],\n",
    "        surplus=surplus\n",
    "    ))\n",
    "    \n",
    "results1 = pd.DataFrame(results1)    \n",
    "results1 = results1.sort_values(\"user_surplus0\", ignore_index=True)    "
   ]
  },
  {
   "cell_type": "code",
   "execution_count": 7,
   "id": "8e2f2a99",
   "metadata": {},
   "outputs": [
    {
     "name": "stdout",
     "output_type": "stream",
     "text": [
      "0.0  0.187  1.125  1.312\n",
      "0.5  0.427  0.911  1.338\n",
      "1.0  0.535  0.682  1.217\n",
      "2.0  0.620  0.435  1.055\n",
      "inf  0.691  0.204  0.895\n"
     ]
    }
   ],
   "source": [
    "for alpha, sol0, sol1 in results1[[\"alpha\", \"sol0\", \"sol1\"]].values.round(3):\n",
    "    print(f\"{alpha:0.1f}  {sol0:0.3f}  {sol1:0.3f}  {sol0+sol1:0.3f}\")"
   ]
  },
  {
   "cell_type": "code",
   "execution_count": 8,
   "id": "9d4bae08",
   "metadata": {},
   "outputs": [
    {
     "name": "stdout",
     "output_type": "stream",
     "text": [
      "0.0  0.281  3.375  3.656\n",
      "0.5  0.527  3.003  3.530\n",
      "1.0  0.668  2.564  3.232\n",
      "2.0  0.822  1.867  2.689\n",
      "inf  0.977  0.977  1.954\n"
     ]
    }
   ],
   "source": [
    "for alpha, surplus0, surplus1 in results1[[\"alpha\", \"user_surplus0\", \"user_surplus1\"]].values.round(3):\n",
    "    print(f\"{alpha:0.1f}  {surplus0:0.3f}  {surplus1:0.3f}  {surplus0+surplus1:0.3f}\")"
   ]
  },
  {
   "cell_type": "code",
   "execution_count": 6,
   "id": "069d265d",
   "metadata": {},
   "outputs": [
    {
     "name": "stdout",
     "output_type": "stream",
     "text": [
      "CPU times: user 3.98 s, sys: 871 ms, total: 4.85 s\n",
      "Wall time: 4.76 s\n"
     ]
    }
   ],
   "source": [
    "%%time\n",
    "\n",
    "# get feasible region\n",
    "x_grid = np.linspace(0, 2, 1001)\n",
    "param_list = [(x0, x1, a, b) for x0 in x_grid for x1 in x_grid]\n",
    "\n",
    "def is_feasible_wrapper(params):\n",
    "    x0, x1, a, b = params\n",
    "    L = x0 + x1\n",
    "    s0 = -0.5*a[0]*x0**2 + (b[0] - L)*x0\n",
    "    s1 = -0.5*a[1]*x1**2 + (b[1] - L)*x1\n",
    "    is_feasible = (0 <= x0 <= 2*(b[0] - L)/a[0]) and (0 <= x1 <= 2*(b[1] - L)/a[1])\n",
    "    is_feasible = is_feasible and (s0 >= 0) and (s1 >= 0)\n",
    "    return dict(s0=s0, s1=s1, is_feasible=is_feasible)\n",
    "    \n",
    "pool = multiprocessing.Pool(min(multiprocessing.cpu_count(), 100))\n",
    "feasible_region1 = pool.map(is_feasible_wrapper, param_list)\n",
    "feasible_region1 = pd.DataFrame(feasible_region1).dropna()\n",
    "feasible_region1 = feasible_region1.loc[feasible_region1.is_feasible, [\"s0\", \"s1\"]].reset_index(drop=True)\n",
    "pool.close()"
   ]
  },
  {
   "cell_type": "markdown",
   "id": "17ab13f6",
   "metadata": {},
   "source": [
    "## Non-Convex Feasible Region"
   ]
  },
  {
   "cell_type": "code",
   "execution_count": 9,
   "id": "25224c83",
   "metadata": {},
   "outputs": [],
   "source": [
    "def solve(a, b, metric):\n",
    "    pool = multiprocessing.Pool(min(multiprocessing.cpu_count(), 100))\n",
    "    results = pool.map(partial(solve_fixed_load, a=a, b=b, metric=metric), np.arange(0.1, 100, 0.1))\n",
    "    results = [x for x in results if not np.isnan(x[0])]\n",
    "    pool.close()\n",
    "    return sorted(results, key=lambda x: -x[0])[0]"
   ]
  },
  {
   "cell_type": "code",
   "execution_count": 29,
   "id": "62f0fc44",
   "metadata": {},
   "outputs": [
    {
     "name": "stderr",
     "output_type": "stream",
     "text": [
      "100%|███████████████████████████████████████████████████████████████████████████████████| 5/5 [00:05<00:00,  1.08s/it]"
     ]
    },
    {
     "name": "stdout",
     "output_type": "stream",
     "text": [
      "CPU times: user 527 ms, sys: 4.32 s, total: 4.85 s\n",
      "Wall time: 5.42 s\n"
     ]
    },
    {
     "name": "stderr",
     "output_type": "stream",
     "text": [
      "\n"
     ]
    }
   ],
   "source": [
    "%%time\n",
    "\n",
    "a = np.array([2, 2])\n",
    "b = np.array([40, 4])\n",
    "\n",
    "results2 = []\n",
    "alpha_values = [0.0, 0.5, 1.0, 2.0, float(\"inf\")]\n",
    "for alpha in tqdm.tqdm(alpha_values):\n",
    "    val, sol, user_surplus, surplus = solve(a, b, alpha)\n",
    "    results2.append(dict(\n",
    "        alpha=alpha,\n",
    "        val=val, \n",
    "        sol0=sol[0],\n",
    "        sol1=sol[1],\n",
    "        sol=sol, \n",
    "        user_surplus0=user_surplus[0],\n",
    "        user_surplus1=user_surplus[1],\n",
    "        surplus=surplus\n",
    "    ))\n",
    "    \n",
    "results2 = pd.DataFrame(results2)    \n",
    "results2 = results2.sort_values(\"user_surplus0\", ignore_index=True)    "
   ]
  },
  {
   "cell_type": "code",
   "execution_count": 33,
   "id": "25f5acba",
   "metadata": {},
   "outputs": [
    {
     "name": "stdout",
     "output_type": "stream",
     "text": [
      "inf  0.050  0.950  1.000\n",
      "2.0  0.282  0.918  1.200\n",
      "1.0  1.325  0.675  2.000\n",
      "0.5  3.889  0.011  3.900\n",
      "0.0  4.000  -0.000  4.000\n"
     ]
    }
   ],
   "source": [
    "for alpha, sol0, sol1 in results2[[\"alpha\", \"sol0\", \"sol1\"]].values.round(3):\n",
    "    print(f\"{alpha:0.1f}  {sol0:0.3f}  {sol1:0.3f}  {sol0+sol1:0.3f}\")"
   ]
  },
  {
   "cell_type": "code",
   "execution_count": 34,
   "id": "eaec5395",
   "metadata": {},
   "outputs": [
    {
     "name": "stdout",
     "output_type": "stream",
     "text": [
      "inf  1.948  1.947  3.895\n",
      "2.0  10.876  1.727  12.603\n",
      "1.0  48.602  0.894  49.496\n",
      "0.5  125.275  0.001  125.276\n",
      "0.0  128.000  -0.000  128.000\n"
     ]
    }
   ],
   "source": [
    "for alpha, surplus0, surplus1 in results2[[\"alpha\", \"user_surplus0\", \"user_surplus1\"]].values.round(3):\n",
    "    print(f\"{alpha:0.1f}  {surplus0:0.3f}  {surplus1:0.3f}  {surplus0+surplus1:0.3f}\")"
   ]
  },
  {
   "cell_type": "code",
   "execution_count": 30,
   "id": "695c871f",
   "metadata": {},
   "outputs": [
    {
     "name": "stdout",
     "output_type": "stream",
     "text": [
      "CPU times: user 4.03 s, sys: 1.33 s, total: 5.35 s\n",
      "Wall time: 5.27 s\n"
     ]
    }
   ],
   "source": [
    "%%time\n",
    "\n",
    "\n",
    "# get feasible region\n",
    "x_grid = np.linspace(0, 10, 1001)\n",
    "param_list = [(x0, x1, a, b) for x0 in x_grid for x1 in x_grid]\n",
    "    \n",
    "pool = multiprocessing.Pool(min(multiprocessing.cpu_count(), 100))\n",
    "feasible_region2 = pool.map(is_feasible_wrapper, param_list)\n",
    "feasible_region2 = pd.DataFrame(feasible_region2).dropna()\n",
    "feasible_region2 = feasible_region2.loc[feasible_region2.is_feasible, [\"s0\", \"s1\"]].reset_index(drop=True)\n",
    "pool.close()"
   ]
  },
  {
   "cell_type": "code",
   "execution_count": null,
   "id": "36597d1d",
   "metadata": {},
   "outputs": [],
   "source": []
  },
  {
   "cell_type": "markdown",
   "id": "42b63a62",
   "metadata": {},
   "source": [
    "## Plot"
   ]
  },
  {
   "cell_type": "code",
   "execution_count": 32,
   "id": "1a6d0e34",
   "metadata": {},
   "outputs": [
    {
     "data": {
      "image/png": "[encoded data removed]",
      "text/plain": [
       "<Figure size 400x400 with 2 Axes>"
      ]
     },
     "metadata": {},
     "output_type": "display_data"
    }
   ],
   "source": [
    "plt.figure(figsize=(4, 4))\n",
    "\n",
    "\n",
    "plt.subplot(2, 1, 1)\n",
    "labels = [\"α=0.0\", \"α=0.5\", \"α=1.0\", \"α=2.0\", \"α=∞\"]\n",
    "\n",
    "plt.plot(feasible_region1.s0, feasible_region1.s1, \".\", markersize=1, alpha=1, color=\"lightblue\")\n",
    "for i, (alpha, user_surplus0, user_surplus1) in enumerate(results1[[\"alpha\", \"user_surplus0\", \"user_surplus1\"]].values):\n",
    "    plt.plot(user_surplus0, user_surplus1, \"*\", markersize=7)\n",
    "    plt.text(1.2*0.02+user_surplus0, 3*0.02+user_surplus1, labels[i])\n",
    "\n",
    "plt.xlabel(\"Surplus of User 1\")\n",
    "plt.ylabel(\"Surplus of User 2\")\n",
    "\n",
    "\n",
    "plt.subplot(2, 1, 2)\n",
    "labels = [\"α=0.0\", \"α=0.5\", \"α=1.0\", \"α=2.0\", \"α=∞\"][::-1]\n",
    "\n",
    "plt.plot(feasible_region2.s0, feasible_region2.s1, \".\", markersize=1, alpha=1, color=\"lightblue\")\n",
    "for i, (alpha, user_surplus0, user_surplus1) in enumerate(results2[[\"alpha\", \"user_surplus0\", \"user_surplus1\"]].values):\n",
    "    plt.plot(user_surplus0, user_surplus1, \"*\", markersize=7, color=f\"C{4-i}\")\n",
    "    plt.text(130*0.02+user_surplus0 - 10*(i == 3), 1.5*0.02+user_surplus1 if (i != 3) else 0.25, labels[i])\n",
    "\n",
    "plt.xlabel(\"Surplus of User 1\")\n",
    "plt.ylabel(\"Surplus of User 2\")\n",
    "plt.xlim(None, 155)\n",
    "plt.ylim(None, 2.15)\n",
    "\n",
    "\n",
    "plt.tight_layout()\n",
    "plt.savefig(f\"{SAVE_PATH}/pareto-front.png\", dpi=300)\n",
    "plt.show()"
   ]
  },
  {
   "cell_type": "code",
   "execution_count": null,
   "id": "5f724dc9",
   "metadata": {},
   "outputs": [],
   "source": []
  },
  {
   "cell_type": "code",
   "execution_count": null,
   "id": "0344cd78",
   "metadata": {},
   "outputs": [],
   "source": []
  },
  {
   "cell_type": "code",
   "execution_count": null,
   "id": "cd5a1fe3",
   "metadata": {},
   "outputs": [],
   "source": []
  },
  {
   "cell_type": "code",
   "execution_count": null,
   "id": "0750a3dd",
   "metadata": {},
   "outputs": [],
   "source": []
  },
  {
   "cell_type": "code",
   "execution_count": null,
   "id": "ef1d804f",
   "metadata": {},
   "outputs": [],
   "source": []
  },
  {
   "cell_type": "code",
   "execution_count": null,
   "id": "6a441a7e",
   "metadata": {},
   "outputs": [],
   "source": []
  }
 ],
 "metadata": {
  "kernelspec": {
   "display_name": "Python [conda env:uw] *",
   "language": "python",
   "name": "conda-env-uw-py"
  },
  "language_info": {
   "codemirror_mode": {
    "name": "ipython",
    "version": 3
   },
   "file_extension": ".py",
   "mimetype": "text/x-python",
   "name": "python",
   "nbconvert_exporter": "python",
   "pygments_lexer": "ipython3",
   "version": "3.9.16"
  }
 },
 "nbformat": 4,
 "nbformat_minor": 5
}
