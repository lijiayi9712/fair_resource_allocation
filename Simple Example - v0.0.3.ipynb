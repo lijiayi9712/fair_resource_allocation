{
 "cells": [
  {
   "cell_type": "code",
   "execution_count": 101,
   "id": "e9094b20",
   "metadata": {},
   "outputs": [],
   "source": [
    "import tqdm\n",
    "import warnings\n",
    "import multiprocessing\n",
    "import cvxpy as cp\n",
    "import numpy as np\n",
    "import pandas as pd\n",
    "\n",
    "from functools import partial\n",
    "import matplotlib.pyplot as plt\n",
    "import matplotlib.lines as mlines\n",
    "import matplotlib.patches as mpatches"
   ]
  },
  {
   "cell_type": "code",
   "execution_count": 2,
   "id": "f6d51971",
   "metadata": {},
   "outputs": [],
   "source": [
    "def check_feasibility(L, a, b):\n",
    "    x = cp.Variable(len(a))\n",
    "    constraints = [x <= 2*(b - L)/a, x >= 0, cp.sum(x) == L]\n",
    "    problem = cp.Problem(cp.Maximize(0), constraints)\n",
    "    problem.solve()    \n",
    "    return problem.status in {\"optimal\", \"feasible\"}\n",
    "\n",
    "\n",
    "def solve_fixed_load(L, a, b, metric):\n",
    "\n",
    "    try: \n",
    "        warnings.simplefilter(\"error\")\n",
    "        if not check_feasibility(L, a, b):\n",
    "            raise ValueError(\"infeasible\")\n",
    "\n",
    "        x = cp.Variable(len(a))\n",
    "\n",
    "        if (metric == \"sw\") or (metric == 0):\n",
    "            objective = cp.Maximize(cp.sum(-0.5*cp.multiply(a, x**2) + cp.multiply(b - L, x)))\n",
    "        elif (metric == \"pf\") or (metric == 1):\n",
    "            objective = cp.Maximize(cp.sum(cp.log(x) + cp.log(cp.multiply(-0.5*a, x) + b - L)))\n",
    "        elif (metric == \"mm\") or (metric == float(\"inf\")):\n",
    "            objective = cp.Maximize(cp.min(-0.5*cp.multiply(a, x**2) + cp.multiply(b - L, x)))\n",
    "        else:\n",
    "            y = -0.5*cp.multiply(a, x**2) + cp.multiply(b - L, x)\n",
    "            objective = cp.Maximize(cp.sum(cp.power(y, 1 - metric))/(1 - metric))\n",
    "\n",
    "        constraints = [x <= 2*(b - L)/a, x >= 0, cp.sum(x) == L]\n",
    "        problem = cp.Problem(objective, constraints)\n",
    "        problem.solve(solver=\"ECOS\", abstol=1e-6)\n",
    "\n",
    "        user_surplus = -0.5*a*x.value**2 + (b - L)*x.value\n",
    "        surplus = np.sum(user_surplus)\n",
    "\n",
    "        return problem.value, x.value, user_surplus, surplus\n",
    "    \n",
    "    except (Warning, cp.SolverError, TypeError, ValueError) as e:\n",
    "        return np.nan, np.full(len(a), np.nan), np.full(len(a), np.nan), np.nan\n",
    "    \n",
    "\n",
    "def solve(a, b, metric):\n",
    "    pool = multiprocessing.Pool(min(multiprocessing.cpu_count(), 100))\n",
    "    results = pool.map(partial(solve_fixed_load, a=a, b=b, metric=metric), np.arange(0.001, 1.5, 0.001))\n",
    "    results = [x for x in results if not np.isnan(x[0])]\n",
    "    pool.close()\n",
    "    return sorted(results, key=lambda x: -x[0])[0]"
   ]
  },
  {
   "cell_type": "code",
   "execution_count": 73,
   "id": "3218cfea",
   "metadata": {},
   "outputs": [
    {
     "name": "stderr",
     "output_type": "stream",
     "text": [
      "100%|███████████████████████████████████████████████████████████████████████████████████| 6/6 [00:12<00:00,  2.02s/it]"
     ]
    },
    {
     "name": "stdout",
     "output_type": "stream",
     "text": [
      "CPU times: user 895 ms, sys: 9.14 s, total: 10 s\n",
      "Wall time: 12.1 s\n"
     ]
    },
    {
     "name": "stderr",
     "output_type": "stream",
     "text": [
      "\n"
     ]
    }
   ],
   "source": [
    "%%time\n",
    "\n",
    "a = np.array([1, 2])\n",
    "b = np.array([2, 3])\n",
    "\n",
    "results = []\n",
    "alpha_values = [0.0, 0.5, 1.0, 1.5, 3.0, float(\"inf\")]\n",
    "for alpha in tqdm.tqdm(alpha_values):\n",
    "    val, sol, user_surplus, surplus = solve(a, b, alpha)\n",
    "    results.append(dict(\n",
    "        alpha=alpha,\n",
    "        val=val, \n",
    "        sol0=sol[0],\n",
    "        sol1=sol[1],\n",
    "        sol=sol, \n",
    "        user_surplus0=user_surplus[0],\n",
    "        user_surplus1=user_surplus[1],\n",
    "        surplus=surplus\n",
    "    ))\n",
    "    \n",
    "results = pd.DataFrame(results)    \n",
    "results = results.sort_values(\"user_surplus0\", ignore_index=True)    "
   ]
  },
  {
   "cell_type": "code",
   "execution_count": 74,
   "id": "6362c5dc",
   "metadata": {},
   "outputs": [
    {
     "name": "stdout",
     "output_type": "stream",
     "text": [
      "CPU times: user 4.06 s, sys: 1.85 s, total: 5.9 s\n",
      "Wall time: 5.87 s\n"
     ]
    }
   ],
   "source": [
    "%%time\n",
    "\n",
    "# get feasible region\n",
    "x_grid = np.linspace(0, 2, 1001)\n",
    "param_list = [(x0, x1, a, b) for x0 in x_grid for x1 in x_grid]\n",
    "\n",
    "def is_feasible_wrapper(params):\n",
    "    x0, x1, a, b = params\n",
    "    L = x0 + x1\n",
    "    s0 = -0.5*a[0]*x0**2 + (b[0] - L)*x0\n",
    "    s1 = -0.5*a[1]*x1**2 + (b[1] - L)*x1\n",
    "    is_feasible = (0 <= x0 <= 2*(b[0] - L)/a[0]) and (0 <= x1 <= 2*(b[1] - L)/a[1])\n",
    "    is_feasible = is_feasible and (s0 >= 0) and (s1 >= 0)\n",
    "    return dict(s0=s0, s1=s1, is_feasible=is_feasible)\n",
    "    \n",
    "pool = multiprocessing.Pool(min(multiprocessing.cpu_count(), 100))\n",
    "feasible_region = pool.map(is_feasible_wrapper, param_list)\n",
    "feasible_region = pd.DataFrame(feasible_region).dropna()\n",
    "feasible_region = feasible_region.loc[feasible_region.is_feasible, [\"s0\", \"s1\"]].reset_index(drop=True)\n",
    "pool.close()"
   ]
  },
  {
   "cell_type": "code",
   "execution_count": 75,
   "id": "8e2f2a99",
   "metadata": {},
   "outputs": [
    {
     "name": "stdout",
     "output_type": "stream",
     "text": [
      "0.0  0.250  0.625  0.875\n",
      "0.5  0.386  0.507  0.893\n",
      "1.0  0.443  0.435  0.878\n",
      "1.5  0.472  0.392  0.864\n",
      "3.0  0.508  0.332  0.840\n",
      "inf  0.547  0.260  0.807\n"
     ]
    }
   ],
   "source": [
    "for alpha, sol0, sol1 in results[[\"alpha\", \"sol0\", \"sol1\"]].values.round(3):\n",
    "    print(f\"{alpha:0.1f}  {sol0:0.3f}  {sol1:0.3f}  {sol0+sol1:0.3f}\")"
   ]
  },
  {
   "cell_type": "code",
   "execution_count": 76,
   "id": "9d4bae08",
   "metadata": {},
   "outputs": [
    {
     "name": "stdout",
     "output_type": "stream",
     "text": [
      "0.0  0.250  0.937  1.187\n",
      "0.5  0.353  0.811  1.164\n",
      "1.0  0.399  0.734  1.133\n",
      "1.5  0.425  0.683  1.108\n",
      "3.0  0.460  0.607  1.067\n",
      "inf  0.503  0.503  1.006\n"
     ]
    }
   ],
   "source": [
    "for alpha, surplus0, surplus1 in results[[\"alpha\", \"user_surplus0\", \"user_surplus1\"]].values.round(3):\n",
    "    print(f\"{alpha:0.1f}  {surplus0:0.3f}  {surplus1:0.3f}  {surplus0+surplus1:0.3f}\")"
   ]
  },
  {
   "cell_type": "code",
   "execution_count": null,
   "id": "dcfc6a83",
   "metadata": {},
   "outputs": [],
   "source": []
  },
  {
   "cell_type": "code",
   "execution_count": 112,
   "id": "0344cd78",
   "metadata": {},
   "outputs": [
    {
     "data": {
      "image/png": "[encoded data removed]",
      "text/plain": [
       "<Figure size 400x300 with 1 Axes>"
      ]
     },
     "metadata": {},
     "output_type": "display_data"
    }
   ],
   "source": [
    "plt.figure(figsize=(4, 3))\n",
    "\n",
    "plt.plot(feasible_region.s0, feasible_region.s1, \".\", markersize=0.1, alpha=1, color=\"lightgray\")\n",
    "for alpha, user_surplus0, user_surplus1 in results[[\"alpha\", \"user_surplus0\", \"user_surplus1\"]].values:\n",
    "    plt.plot(user_surplus0, user_surplus1, \".\", markersize=12)\n",
    "\n",
    "plt.xlabel(\"User1 Surplus\")\n",
    "plt.ylabel(\"User2 Surplus\")\n",
    "\n",
    "plt.gca().legend(\n",
    "    loc=4, bbox_to_anchor=(0.575, 0.05), labelspacing=0.2,\n",
    "    handles=[\n",
    "        mpatches.Patch(color=color, label=label) if color == \"lightgray\" \n",
    "        else mlines.Line2D([], [], color=color, linestyle='None', marker=\".\", markersize=12, label=label)\n",
    "        for label, color in zip(\n",
    "            [\"feasible region\", \"α=0.0 (SW)\", \"α=0.5\", \"α=1.0 (PF)\", \"α=1.5\", \"α=3.0\", \"α=∞ (MM)\"],\n",
    "            [\"lightgray\", \"C0\", \"C1\", \"C2\", \"C3\", \"C4\", \"C5\"]\n",
    "        )]\n",
    ")\n",
    "\n",
    "plt.show()"
   ]
  },
  {
   "cell_type": "code",
   "execution_count": 78,
   "id": "9db9a9c4",
   "metadata": {},
   "outputs": [],
   "source": [
    "#  (SF)"
   ]
  },
  {
   "cell_type": "code",
   "execution_count": null,
   "id": "6c13f76b",
   "metadata": {},
   "outputs": [],
   "source": []
  },
  {
   "cell_type": "code",
   "execution_count": null,
   "id": "cd5a1fe3",
   "metadata": {},
   "outputs": [],
   "source": []
  },
  {
   "cell_type": "code",
   "execution_count": null,
   "id": "0750a3dd",
   "metadata": {},
   "outputs": [],
   "source": []
  },
  {
   "cell_type": "code",
   "execution_count": null,
   "id": "ef1d804f",
   "metadata": {},
   "outputs": [],
   "source": []
  },
  {
   "cell_type": "code",
   "execution_count": null,
   "id": "6a441a7e",
   "metadata": {},
   "outputs": [],
   "source": []
  }
 ],
 "metadata": {
  "kernelspec": {
   "display_name": "Python [conda env:uw] *",
   "language": "python",
   "name": "conda-env-uw-py"
  },
  "language_info": {
   "codemirror_mode": {
    "name": "ipython",
    "version": 3
   },
   "file_extension": ".py",
   "mimetype": "text/x-python",
   "name": "python",
   "nbconvert_exporter": "python",
   "pygments_lexer": "ipython3",
   "version": "3.9.16"
  }
 },
 "nbformat": 4,
 "nbformat_minor": 5
}
