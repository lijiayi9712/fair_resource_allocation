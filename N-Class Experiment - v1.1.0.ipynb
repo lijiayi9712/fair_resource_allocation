{
 "cells": [
  {
   "cell_type": "code",
   "execution_count": 1,
   "id": "e9094b20",
   "metadata": {},
   "outputs": [],
   "source": [
    "import tqdm\n",
    "import time\n",
    "import warnings\n",
    "import multiprocessing\n",
    "import cvxpy as cp\n",
    "import numpy as np\n",
    "import pandas as pd\n",
    "import matplotlib.pyplot as plt\n",
    "from functools import partial"
   ]
  },
  {
   "cell_type": "code",
   "execution_count": null,
   "id": "7b60508b",
   "metadata": {},
   "outputs": [],
   "source": [
    "time.sleep(3600)"
   ]
  },
  {
   "cell_type": "code",
   "execution_count": null,
   "id": "f6d51971",
   "metadata": {},
   "outputs": [],
   "source": [
    "def check_feasibility(L, a, b):\n",
    "    x = cp.Variable(len(a))\n",
    "    constraints = [x <= 2*(b - L)/a, x >= 0, cp.sum(x) == L]\n",
    "    problem = cp.Problem(cp.Maximize(0), constraints)\n",
    "    problem.solve()    \n",
    "    return problem.status in {\"optimal\", \"feasible\"}\n",
    "\n",
    "\n",
    "def solve_fixed_load(L, a, b, metric):\n",
    "\n",
    "    try: \n",
    "        warnings.simplefilter(\"error\")\n",
    "        if not check_feasibility(L, a, b):\n",
    "            raise ValueError(\"infeasible\")\n",
    "\n",
    "        x = cp.Variable(len(a))\n",
    "\n",
    "        if (metric == \"sw\") or (metric == 0):\n",
    "            objective = cp.Maximize(cp.sum(-0.5*cp.multiply(a, x**2) + cp.multiply(b - L, x)))\n",
    "        elif (metric == \"pf\") or (metric == 1):\n",
    "            objective = cp.Maximize(cp.sum(cp.log(x) + cp.log(cp.multiply(-0.5*a, x) + b - L)))\n",
    "        elif (metric == \"mm\") or (metric == float(\"inf\")):\n",
    "            objective = cp.Maximize(cp.min(-0.5*cp.multiply(a, x**2) + cp.multiply(b - L, x)))\n",
    "        else:\n",
    "            y = -0.5*cp.multiply(a, x**2) + cp.multiply(b - L, x)\n",
    "            objective = cp.Maximize(cp.sum(cp.power(y, 1 - metric))/(1 - metric))\n",
    "\n",
    "        constraints = [x <= 2*(b - L)/a, x >= 0, cp.sum(x) == L]\n",
    "        problem = cp.Problem(objective, constraints)\n",
    "        problem.solve(solver=\"ECOS\", abstol=1e-6)\n",
    "\n",
    "        user_surplus = -0.5*a*x.value**2 + (b - L)*x.value\n",
    "        surplus = np.sum(user_surplus)\n",
    "\n",
    "        return problem.value, x.value, user_surplus, surplus, \"success\"\n",
    "    \n",
    "    except (Warning, cp.SolverError, TypeError, ValueError) as e:\n",
    "        return np.nan, np.full(len(a), np.nan), np.full(len(a), np.nan), np.nan, str(e)\n",
    "\n",
    "\n",
    "def solve(a, b, metric):\n",
    "    pool = multiprocessing.Pool(min(multiprocessing.cpu_count(), 100))\n",
    "    results = pool.map(partial(solve_fixed_load, a=a, b=b, metric=metric), np.arange(0.1, 100, 0.1))\n",
    "    results = [x for x in results if not np.isnan(x[0])]\n",
    "    pool.close()\n",
    "    return sorted(results, key=lambda x: -x[0])[0]\n",
    "\n",
    "\n",
    "def solve_wrapper(params):\n",
    "    \n",
    "    seed = params[\"seed\"]\n",
    "    n_users = params[\"n_users\"]\n",
    "    metric = params[\"metric\"]\n",
    "    xbar = params[\"xbar\"]\n",
    "    \n",
    "    np.random.seed(seed)\n",
    "    \n",
    "    a = 1*np.random.rand(n_users) + 1\n",
    "    b = xbar * a\n",
    "    \n",
    "    val, sol, user_surplus, surplus, message = solve(a, b, metric)\n",
    "        \n",
    "    return dict(\n",
    "        n_users=n_users, seed=seed, metric=metric, message=message,\n",
    "        a=a, b=b, val=val, sol=sol, user_surplus=user_surplus,\n",
    "    )"
   ]
  },
  {
   "cell_type": "code",
   "execution_count": null,
   "id": "d9a5393b",
   "metadata": {},
   "outputs": [],
   "source": [
    "%%time\n",
    "\n",
    "params_list = [\n",
    "    dict(n_users=n_users, seed=seed, metric=metric, xbar=2)\n",
    "    for n_users in [100] for seed in range(1000)\n",
    "    for metric in [\"sw\", \"pf\", \"mm\"]\n",
    "]\n",
    "\n",
    "results = [solve_wrapper(params) for params in tqdm.tqdm(params_list)]\n",
    "df = pd.DataFrame(results)"
   ]
  },
  {
   "cell_type": "code",
   "execution_count": null,
   "id": "72f98069",
   "metadata": {},
   "outputs": [],
   "source": [
    "df = pd.DataFrame(results)\n",
    "df[\"a_rank\"] = df.a.apply(lambda x: list(pd.Series(x).rank()))\n",
    "df_sw = df.loc[df.metric==\"sw\"]\n",
    "df_pf = df.loc[df.metric==\"pf\"]\n",
    "\n",
    "a = np.array(df_sw.a.tolist())\n",
    "rel_a = (a / a.max(1, keepdims=True)).flatten()\n",
    "\n",
    "sw_sol = np.array(df_sw.sol.tolist()).flatten()\n",
    "sw_surplus = np.array(df_sw.user_surplus.tolist()).flatten()\n",
    "\n",
    "pf_sol = np.array(df_pf.sol.tolist()).flatten()\n",
    "pf_surplus = np.array(df_pf.user_surplus.tolist()).flatten()"
   ]
  },
  {
   "cell_type": "code",
   "execution_count": null,
   "id": "9e1c9be3",
   "metadata": {},
   "outputs": [],
   "source": [
    "plt.figure(figsize=(7, 6))\n",
    "\n",
    "plt.subplot(2, 2, 1)\n",
    "plt.plot(rel_a, sw_sol, \".\", alpha=0.5)\n",
    "plt.xlabel(\"a_i / max(a)\")\n",
    "plt.ylabel(\"SW Allocation\")\n",
    "plt.grid()\n",
    "\n",
    "plt.subplot(2, 2, 2)\n",
    "plt.plot(rel_a, sw_surplus, \".\", alpha=0.5)\n",
    "plt.xlabel(\"a_i / max(a)\")\n",
    "plt.ylabel(\"SW Surplus\")\n",
    "plt.grid()\n",
    "\n",
    "\n",
    "plt.subplot(2, 2, 3)\n",
    "plt.plot(rel_a, pf_sol, \".\", alpha=0.5)\n",
    "plt.xlabel(\"a_i / max(a)\")\n",
    "plt.ylabel(\"PF Allocation\")\n",
    "plt.grid()\n",
    "\n",
    "plt.subplot(2, 2, 4)\n",
    "plt.plot(rel_a, pf_surplus, \".\", alpha=0.5)\n",
    "plt.xlabel(\"a_i / max(a)\")\n",
    "plt.ylabel(\"PF Surplus\")\n",
    "plt.grid()\n",
    "\n",
    "plt.tight_layout()\n",
    "plt.show()"
   ]
  },
  {
   "cell_type": "code",
   "execution_count": null,
   "id": "aab1375e",
   "metadata": {},
   "outputs": [],
   "source": [
    "sw_sol = np.vstack(df.loc[df.metric==\"sw\", \"sol\"].tolist()).flatten()\n",
    "pf_sol = np.vstack(df.loc[df.metric==\"pf\", \"sol\"].tolist()).flatten()\n",
    "\n",
    "data_min = min(min(sw_sol), min(pf_sol))\n",
    "data_max = max(max(sw_sol), max(pf_sol))\n",
    "bins = np.linspace(data_min, data_max, 30)\n",
    "\n",
    "plt.figure(figsize=(4, 3))\n",
    "plt.hist(sw_sol, bins=bins, color=\"C0\", alpha=0.5, label=\"SW\")\n",
    "plt.hist(pf_sol, bins=bins, color=\"C1\", alpha=0.5, label=\"PF\")\n",
    "plt.xlabel(\"Allocation\")\n",
    "plt.ylabel(\"Count\")\n",
    "plt.legend()\n",
    "plt.show()"
   ]
  },
  {
   "cell_type": "code",
   "execution_count": null,
   "id": "9786242b",
   "metadata": {},
   "outputs": [],
   "source": [
    "sw_surplus = np.vstack(df.loc[df.metric==\"sw\", \"user_surplus\"].tolist()).flatten()\n",
    "pf_surplus = np.vstack(df.loc[df.metric==\"pf\", \"user_surplus\"].tolist()).flatten()\n",
    "\n",
    "data_min = min(min(sw_sol), min(pf_sol))\n",
    "data_max = max(max(sw_sol), max(pf_sol))\n",
    "bins = np.linspace(data_min, data_max, 30)\n",
    "\n",
    "plt.figure(figsize=(4, 3))\n",
    "plt.hist(sw_surplus, bins=bins, color=\"C0\", alpha=0.5, label=\"SW\")\n",
    "plt.hist(pf_surplus, bins=bins, color=\"C1\", alpha=0.5, label=\"PF\")\n",
    "plt.xlabel(\"Surplus\")\n",
    "plt.ylabel(\"Count\")\n",
    "plt.legend()\n",
    "plt.show()"
   ]
  },
  {
   "cell_type": "code",
   "execution_count": null,
   "id": "c159c63d",
   "metadata": {},
   "outputs": [],
   "source": []
  },
  {
   "cell_type": "code",
   "execution_count": null,
   "id": "c359e21d",
   "metadata": {},
   "outputs": [],
   "source": [
    "plt.figure(figsize=(4, 3))\n",
    "plt.hist(pf_sol - sw_sol, bins=30, color=\"C0\", alpha=0.5)\n",
    "plt.xlabel(\"Allocation Gain\")\n",
    "plt.ylabel(\"Count\")\n",
    "plt.show()\n",
    "\n",
    "plt.figure(figsize=(4, 3))\n",
    "plt.hist(pf_surplus - sw_surplus, bins=30, color=\"C0\", alpha=0.5)\n",
    "plt.xlabel(\"Surplus Gain\")\n",
    "plt.ylabel(\"Count\")\n",
    "plt.show()"
   ]
  },
  {
   "cell_type": "code",
   "execution_count": null,
   "id": "68218a6e",
   "metadata": {},
   "outputs": [],
   "source": [
    "np.mean(pf_sol - sw_sol), np.mean(pf_sol > sw_sol)"
   ]
  },
  {
   "cell_type": "code",
   "execution_count": null,
   "id": "e2276687",
   "metadata": {},
   "outputs": [],
   "source": [
    "np.mean(pf_surplus - sw_surplus), np.mean(pf_surplus > sw_surplus)"
   ]
  },
  {
   "cell_type": "code",
   "execution_count": null,
   "id": "5bff7565",
   "metadata": {},
   "outputs": [],
   "source": []
  },
  {
   "cell_type": "code",
   "execution_count": null,
   "id": "6c13f76b",
   "metadata": {},
   "outputs": [],
   "source": []
  },
  {
   "cell_type": "code",
   "execution_count": null,
   "id": "cd5a1fe3",
   "metadata": {},
   "outputs": [],
   "source": []
  },
  {
   "cell_type": "code",
   "execution_count": null,
   "id": "0750a3dd",
   "metadata": {},
   "outputs": [],
   "source": []
  },
  {
   "cell_type": "code",
   "execution_count": null,
   "id": "ef1d804f",
   "metadata": {},
   "outputs": [],
   "source": []
  },
  {
   "cell_type": "code",
   "execution_count": null,
   "id": "6a441a7e",
   "metadata": {},
   "outputs": [],
   "source": []
  }
 ],
 "metadata": {
  "kernelspec": {
   "display_name": "Python [conda env:uw] *",
   "language": "python",
   "name": "conda-env-uw-py"
  },
  "language_info": {
   "codemirror_mode": {
    "name": "ipython",
    "version": 3
   },
   "file_extension": ".py",
   "mimetype": "text/x-python",
   "name": "python",
   "nbconvert_exporter": "python",
   "pygments_lexer": "ipython3",
   "version": "3.9.16"
  }
 },
 "nbformat": 4,
 "nbformat_minor": 5
}
