{
 "cells": [
  {
   "cell_type": "code",
   "execution_count": 1,
   "id": "e9094b20",
   "metadata": {},
   "outputs": [],
   "source": [
    "import tqdm\n",
    "import warnings\n",
    "import multiprocessing\n",
    "import cvxpy as cp\n",
    "import numpy as np\n",
    "import pandas as pd\n",
    "import matplotlib.pyplot as plt"
   ]
  },
  {
   "cell_type": "code",
   "execution_count": 2,
   "id": "f6d51971",
   "metadata": {},
   "outputs": [],
   "source": [
    "def check_feasibility(L, a, b):\n",
    "    x = cp.Variable(len(a))\n",
    "    constraints = [x <= 2*(b - L)/a, x >= 0, cp.sum(x) == L]\n",
    "    problem = cp.Problem(cp.Maximize(0), constraints)\n",
    "    problem.solve()    \n",
    "    return problem.status in {\"optimal\", \"feasible\"}\n",
    "\n",
    "\n",
    "def solve(L, a, b, metric):\n",
    "\n",
    "    x = cp.Variable(len(a))\n",
    "\n",
    "    if metric == \"sw\":\n",
    "        objective = cp.Maximize(cp.sum(-0.5*cp.multiply(a, x**2) + cp.multiply(b - L, x)))\n",
    "    elif (metric == \"pf\") or (metric == 1):\n",
    "        objective = cp.Maximize(cp.sum(cp.log(x) + cp.log(cp.multiply(-0.5*a, x) + b - L)))\n",
    "    elif metric == \"mm\":\n",
    "        objective = cp.Maximize(cp.min(-0.5*cp.multiply(a, x**2) + cp.multiply(b - L, x)))\n",
    "    else:\n",
    "        y = -0.5*cp.multiply(a, x**2) + cp.multiply(b - L, x)\n",
    "        objective = cp.Maximize(cp.sum(cp.power(y, 1 - metric))/(1 - metric))\n",
    "               \n",
    "    constraints = [x <= 2*(b - L)/a, x >= 0, cp.sum(x) == L]\n",
    "    problem = cp.Problem(objective, constraints)\n",
    "    problem.solve(solver=\"ECOS\", abstol=1e-6)\n",
    "\n",
    "    user_surplus = -0.5*a*x.value**2 + (b - L)*x.value\n",
    "    surplus = np.sum(user_surplus)\n",
    "    \n",
    "    return problem.value, x.value, user_surplus, surplus"
   ]
  },
  {
   "cell_type": "code",
   "execution_count": 3,
   "id": "f81215f1",
   "metadata": {},
   "outputs": [
    {
     "name": "stdout",
     "output_type": "stream",
     "text": [
      "CPU times: user 920 ms, sys: 0 ns, total: 920 ms\n",
      "Wall time: 919 ms\n"
     ]
    }
   ],
   "source": [
    "%%time\n",
    "\n",
    "L = 1\n",
    "a = np.array([1, 10])\n",
    "b = np.array([2, 20])\n",
    "\n",
    "\n",
    "warnings.simplefilter(\"error\")\n",
    "assert check_feasibility(L, a, b), \"infeasible\"\n",
    "sw_val, sw_sol, sw_user_surplus, sw_surplus = solve(L, a, b, \"sw\")\n",
    "pf_val, pf_sol, pf_user_surplus, pf_surplus = solve(L, a, b, \"pf\")\n",
    "mm_val, mm_sol, mm_user_surplus, mm_surplus = solve(L, a, b, \"mm\")\n",
    "\n",
    "alpha_results = []\n",
    "for alpha in np.logspace(-1, 1, 51):\n",
    "    val, sol, user_surplus, surplus = solve(L, a, b, alpha)\n",
    "    alpha_results.append(dict(\n",
    "        val=val, \n",
    "        sol=sol, \n",
    "        user_surplus0=user_surplus[0],\n",
    "        user_surplus1=user_surplus[1],\n",
    "        surplus=surplus\n",
    "    ))\n",
    "    \n",
    "alpha_results = pd.DataFrame(alpha_results)    \n",
    "alpha_results = alpha_results.sort_values(\"user_surplus0\", ignore_index=True)"
   ]
  },
  {
   "cell_type": "code",
   "execution_count": 7,
   "id": "4c9caa01",
   "metadata": {},
   "outputs": [
    {
     "name": "stdout",
     "output_type": "stream",
     "text": [
      "[-2.98960991e-09  1.00000000e+00]\n",
      "[0.45763349 0.54236651]\n",
      "[0.97351735 0.02648265]\n"
     ]
    }
   ],
   "source": [
    "print(sw_sol)\n",
    "print(pf_sol)\n",
    "print(mm_sol)"
   ]
  },
  {
   "cell_type": "code",
   "execution_count": 4,
   "id": "0f97bdbb",
   "metadata": {},
   "outputs": [
    {
     "name": "stdout",
     "output_type": "stream",
     "text": [
      "[-2.98960992e-09  1.40000000e+01] 14.000000023461592\n",
      "[0.35291928 8.83415653] 9.187075808942064\n",
      "[0.49964933 0.49966376] 0.9993130929667995\n"
     ]
    }
   ],
   "source": [
    "print(sw_user_surplus, sw_surplus)\n",
    "print(pf_user_surplus, pf_surplus)\n",
    "print(mm_user_surplus, mm_surplus)"
   ]
  },
  {
   "cell_type": "code",
   "execution_count": 5,
   "id": "0344cd78",
   "metadata": {},
   "outputs": [
    {
     "data": {
      "image/png": "[encoded data removed]",
      "text/plain": [
       "<Figure size 400x300 with 1 Axes>"
      ]
     },
     "metadata": {},
     "output_type": "display_data"
    }
   ],
   "source": [
    "plt.figure(figsize=(4, 3))\n",
    "\n",
    "plt.plot(alpha_results.user_surplus0, alpha_results.user_surplus1, \"k--\", label=\"α-Fairness\")\n",
    "plt.plot(sw_user_surplus[0], sw_user_surplus[1], \"*\", markersize=8, label=\"Social Welfare Solution\")\n",
    "plt.plot(pf_user_surplus[0], pf_user_surplus[1], \"*\", markersize=8, label=\"Proportional Fairness\")\n",
    "plt.plot(mm_user_surplus[0], mm_user_surplus[1], \"*\", markersize=8, label=\"Max-Min Fairness\")\n",
    "plt.xlabel(\"User1 Surplus\")\n",
    "plt.ylabel(\"User2 Surplus\")\n",
    "plt.legend()\n",
    "plt.grid()\n",
    "plt.show()"
   ]
  },
  {
   "cell_type": "code",
   "execution_count": null,
   "id": "9db9a9c4",
   "metadata": {},
   "outputs": [],
   "source": []
  },
  {
   "cell_type": "code",
   "execution_count": null,
   "id": "6c13f76b",
   "metadata": {},
   "outputs": [],
   "source": []
  },
  {
   "cell_type": "code",
   "execution_count": null,
   "id": "cd5a1fe3",
   "metadata": {},
   "outputs": [],
   "source": []
  },
  {
   "cell_type": "code",
   "execution_count": null,
   "id": "0750a3dd",
   "metadata": {},
   "outputs": [],
   "source": []
  },
  {
   "cell_type": "code",
   "execution_count": null,
   "id": "ef1d804f",
   "metadata": {},
   "outputs": [],
   "source": []
  },
  {
   "cell_type": "code",
   "execution_count": null,
   "id": "6a441a7e",
   "metadata": {},
   "outputs": [],
   "source": []
  }
 ],
 "metadata": {
  "kernelspec": {
   "display_name": "Python [conda env:uw] *",
   "language": "python",
   "name": "conda-env-uw-py"
  },
  "language_info": {
   "codemirror_mode": {
    "name": "ipython",
    "version": 3
   },
   "file_extension": ".py",
   "mimetype": "text/x-python",
   "name": "python",
   "nbconvert_exporter": "python",
   "pygments_lexer": "ipython3",
   "version": "3.9.16"
  }
 },
 "nbformat": 4,
 "nbformat_minor": 5
}
